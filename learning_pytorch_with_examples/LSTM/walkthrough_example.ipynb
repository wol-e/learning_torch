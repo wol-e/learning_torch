{
 "cells": [
  {
   "cell_type": "markdown",
   "id": "3c00db51-7928-4fd4-8e7c-c0088c2eaaf3",
   "metadata": {},
   "source": [
    "# Example LSTM for timeseries prediction\n",
    "\n",
    "Here we build an LSTM predicting a simple sine curve. The goal is mostly to understand the input and output shapes and general architecture of an LSTM for time series prediciton."
   ]
  },
  {
   "cell_type": "code",
   "execution_count": 5,
   "id": "76323937-04ae-41e4-a6f8-73b6403e6874",
   "metadata": {},
   "outputs": [
    {
     "data": {
      "text/plain": [
       "array([ 0.        ,  0.8237353 ,  0.93407392,  0.23545699, -0.66707768,\n",
       "       -0.99188913, -0.45767412,  0.47290996,  0.99392995,  0.65415603])"
      ]
     },
     "execution_count": 5,
     "metadata": {},
     "output_type": "execute_result"
    }
   ],
   "source": [
    "import numpy as np\n",
    "    \n",
    "x = np.linspace(0, 967, 1000)\n",
    "x = np.sin(x)\n",
    "x[:10]"
   ]
  },
  {
   "cell_type": "code",
   "execution_count": 6,
   "id": "d8ba2550-38f7-43a0-bb5d-626a8abcbfe8",
   "metadata": {},
   "outputs": [
    {
     "data": {
      "text/plain": [
       "array([[ 0.        ,  0.8237353 ,  0.93407392,  0.23545699, -0.66707768,\n",
       "        -0.99188913, -0.45767412,  0.47290996,  0.99392995,  0.65415603],\n",
       "       [-0.2521503 , -0.94008164, -0.81385444,  0.01721212,  0.83337211,\n",
       "         0.92778945,  0.21869391, -0.67980168, -0.98955442, -0.44230268],\n",
       "       [ 0.48800569,  0.9956763 ,  0.64104057, -0.26876891, -0.94581084,\n",
       "        -0.80373245,  0.03441914,  0.84276201,  0.92123009,  0.20186604]])"
      ]
     },
     "execution_count": 6,
     "metadata": {},
     "output_type": "execute_result"
    }
   ],
   "source": [
    "x = x.reshape(100, 10)\n",
    "x[:3]"
   ]
  },
  {
   "cell_type": "code",
   "execution_count": 7,
   "id": "b6b49343-bc40-4758-9d7b-2a16cd6b1af3",
   "metadata": {},
   "outputs": [
    {
     "data": {
      "text/plain": [
       "[<matplotlib.lines.Line2D at 0x7f6ed30f3bb0>]"
      ]
     },
     "execution_count": 7,
     "metadata": {},
     "output_type": "execute_result"
    },
    {
     "data": {
      "image/png": "[encoded data removed]",
      "text/plain": [
       "<Figure size 432x288 with 1 Axes>"
      ]
     },
     "metadata": {
      "needs_background": "light"
     },
     "output_type": "display_data"
    }
   ],
   "source": [
    "import matplotlib.pyplot as plt\n",
    "\n",
    "plt.plot(x[0])"
   ]
  },
  {
   "cell_type": "code",
   "execution_count": 10,
   "id": "003d41b1-cef2-4acb-8072-6ebf0ac16f83",
   "metadata": {},
   "outputs": [
    {
     "data": {
      "text/plain": [
       "(array([[ 0.        ,  0.8237353 ,  0.93407392,  0.23545699, -0.66707768,\n",
       "         -0.99188913, -0.45767412,  0.47290996,  0.99392995,  0.65415603],\n",
       "        [-0.2521503 , -0.94008164, -0.81385444,  0.01721212,  0.83337211,\n",
       "          0.92778945,  0.21869391, -0.67980168, -0.98955442, -0.44230268],\n",
       "        [ 0.48800569,  0.9956763 ,  0.64104057, -0.26876891, -0.94581084,\n",
       "         -0.80373245,  0.03441914,  0.84276201,  0.92123009,  0.20186604]]),\n",
       " tensor([[ 0.0000,  0.8237,  0.9341,  0.2355, -0.6671, -0.9919, -0.4577,  0.4729,\n",
       "           0.9939],\n",
       "         [-0.2522, -0.9401, -0.8139,  0.0172,  0.8334,  0.9278,  0.2187, -0.6798,\n",
       "          -0.9896],\n",
       "         [ 0.4880,  0.9957,  0.6410, -0.2688, -0.9458, -0.8037,  0.0344,  0.8428,\n",
       "           0.9212]]),\n",
       " tensor([[ 0.6542],\n",
       "         [-0.4423],\n",
       "         [ 0.2019]]))"
      ]
     },
     "execution_count": 10,
     "metadata": {},
     "output_type": "execute_result"
    }
   ],
   "source": [
    "import torch\n",
    "\n",
    "X = torch.Tensor(x)\n",
    "y = X[:, -1].view(X.shape[0], 1)\n",
    "X = X[:, :X.shape[1] - 1]\n",
    "\n",
    "x[:3], X[:3], y[:3]"
   ]
  },
  {
   "cell_type": "code",
   "execution_count": 40,
   "id": "f35c9b31-84c0-42ad-9357-a66b4c2f5f04",
   "metadata": {},
   "outputs": [
    {
     "data": {
      "text/plain": [
       "LSTM(1, 2, batch_first=True)"
      ]
     },
     "execution_count": 40,
     "metadata": {},
     "output_type": "execute_result"
    }
   ],
   "source": [
    "\"predict y basec on X with LSTM\"\n",
    "\n",
    "from torch.nn import LSTM\n",
    "\n",
    "lstm = LSTM(\n",
    "    input_size=1,  # number of features per timestep\n",
    "    hidden_size=2,\n",
    "    batch_first=True,  # shape I'm used to: first the bartch size (# of samples), then the sequence of samples, then the features per timestep, see below\n",
    "    num_layers=1\n",
    ")\n",
    "\n",
    "lstm"
   ]
  },
  {
   "cell_type": "code",
   "execution_count": 41,
   "id": "8a5224d6-e706-49e0-b8dc-995a01bc1e02",
   "metadata": {},
   "outputs": [
    {
     "data": {
      "text/plain": [
       "(torch.Size([100, 9, 1]),\n",
       " tensor([[[ 0.0000],\n",
       "          [ 0.8237],\n",
       "          [ 0.9341],\n",
       "          [ 0.2355],\n",
       "          [-0.6671],\n",
       "          [-0.9919],\n",
       "          [-0.4577],\n",
       "          [ 0.4729],\n",
       "          [ 0.9939]],\n",
       " \n",
       "         [[-0.2522],\n",
       "          [-0.9401],\n",
       "          [-0.8139],\n",
       "          [ 0.0172],\n",
       "          [ 0.8334],\n",
       "          [ 0.9278],\n",
       "          [ 0.2187],\n",
       "          [-0.6798],\n",
       "          [-0.9896]],\n",
       " \n",
       "         [[ 0.4880],\n",
       "          [ 0.9957],\n",
       "          [ 0.6410],\n",
       "          [-0.2688],\n",
       "          [-0.9458],\n",
       "          [-0.8037],\n",
       "          [ 0.0344],\n",
       "          [ 0.8428],\n",
       "          [ 0.9212]]]))"
      ]
     },
     "execution_count": 41,
     "metadata": {},
     "output_type": "execute_result"
    }
   ],
   "source": [
    "# batch_first = True: input must be of form (N, L, H), where N = batch_size, L = sequence_length,  H = input size (i.e. number of features)\n",
    "X = X.reshape(X.shape[0], -1, 1)\n",
    "X.shape, X[:3]"
   ]
  },
  {
   "cell_type": "code",
   "execution_count": 42,
   "id": "979ac556-cd46-4e5c-9ec3-f0e725cb6240",
   "metadata": {},
   "outputs": [],
   "source": [
    "# output of LSTM \n",
    "output, (h, c) = lstm(X)"
   ]
  },
  {
   "cell_type": "code",
   "execution_count": 43,
   "id": "a82d5e1b-09ec-4732-b8a7-3f4197e09bef",
   "metadata": {},
   "outputs": [
    {
     "data": {
      "text/plain": [
       "torch.Size([100, 9, 2])"
      ]
     },
     "execution_count": 43,
     "metadata": {},
     "output_type": "execute_result"
    }
   ],
   "source": [
    "output.shape  # (N, L, H_out), L, N as above, H_out = hiddensize. "
   ]
  },
  {
   "cell_type": "code",
   "execution_count": 44,
   "id": "2dea0fff-af21-4122-9d8c-3ebf3d107f90",
   "metadata": {},
   "outputs": [
    {
     "data": {
      "text/plain": [
       "torch.Size([1, 100, 2])"
      ]
     },
     "execution_count": 44,
     "metadata": {},
     "output_type": "execute_result"
    }
   ],
   "source": [
    "h.shape  #(num_layers, N, H_out)"
   ]
  },
  {
   "cell_type": "code",
   "execution_count": 45,
   "id": "6fc81f26-97b3-4225-9bc4-03a65ae347ab",
   "metadata": {},
   "outputs": [
    {
     "data": {
      "text/plain": [
       "torch.Size([1, 100, 2])"
      ]
     },
     "execution_count": 45,
     "metadata": {},
     "output_type": "execute_result"
    }
   ],
   "source": [
    "c.shape  # cell states, probably don't need"
   ]
  },
  {
   "cell_type": "code",
   "execution_count": 209,
   "id": "a886c707-68ee-48b9-a4db-949ee6a9e42e",
   "metadata": {},
   "outputs": [],
   "source": [
    "import torch.nn as nn\n",
    "\n",
    "class MyLSTM(nn.Module):\n",
    "    def __init__(self, input_size, hidden_size, num_layers):\n",
    "        super().__init__()\n",
    "        self.input_size = input_size\n",
    "        self.count = 0\n",
    "        self.hidden_size = hidden_size\n",
    "        self.num_layers = num_layers\n",
    "        self.lstm = nn.LSTM(input_size, hidden_size, num_layers=self.num_layers, batch_first = True)\n",
    "        self.output_layer = nn.Linear(hidden_size,1)\n",
    "        self.linear_layer1 = nn.Linear(9, 1)\n",
    "\n",
    "        \n",
    "    def forward(self, input):\n",
    "        output, (h, c) = self.lstm(input)\n",
    "        output = self.output_layer(output).view(100, 9)  # removing LSTM'S extra dimensinos for next linear layer\n",
    "        output = self.linear_layer1(output)\n",
    "        return output\n",
    "    \n",
    "    def fit(self, X, y, n_epochs, learning_rate):\n",
    "        criterion = torch.nn.MSELoss()    # mean-squared error for regression\n",
    "        optimizer = torch.optim.Adam(self.lstm.parameters(), lr=learning_rate) \n",
    "        \n",
    "        for epoch in range(n_epochs):\n",
    "            outputs = self.forward(X) #forward pass\n",
    "            optimizer.zero_grad() #caluclate the gradient, manually setting to 0\n",
    "\n",
    "            if self.count == 0:\n",
    "                display(outputs.shape, y.shape)\n",
    "                self.count += 1\n",
    "            # obtain the loss function\n",
    "            loss = criterion(outputs, y)\n",
    "\n",
    "            loss.backward() #calculates the loss of the loss function\n",
    "            optimizer.step() #improve from loss, i.e backprop\n",
    "            \n",
    "            if epoch % 100 == 0:\n",
    "                print(\"Epoch: %d, loss: %1.5f\" % (epoch, loss.item())) "
   ]
  },
  {
   "cell_type": "code",
   "execution_count": 210,
   "id": "9b389d03-020b-43d7-b421-e3637c971345",
   "metadata": {},
   "outputs": [
    {
     "data": {
      "text/plain": [
       "tensor([[0.1296],\n",
       "        [0.1507],\n",
       "        [0.1316]], grad_fn=<SliceBackward0>)"
      ]
     },
     "execution_count": 210,
     "metadata": {},
     "output_type": "execute_result"
    }
   ],
   "source": [
    "MyLSTM(1, 2, 1).forward(X)[:3]"
   ]
  },
  {
   "cell_type": "code",
   "execution_count": 215,
   "id": "5fe68c30-aeda-43ef-bbbd-09d7d12e9c32",
   "metadata": {},
   "outputs": [
    {
     "data": {
      "text/plain": [
       "torch.Size([100, 1])"
      ]
     },
     "metadata": {},
     "output_type": "display_data"
    },
    {
     "data": {
      "text/plain": [
       "torch.Size([100, 1])"
      ]
     },
     "metadata": {},
     "output_type": "display_data"
    },
    {
     "name": "stdout",
     "output_type": "stream",
     "text": [
      "Epoch: 0, loss: 0.50221\n",
      "Epoch: 100, loss: 0.49026\n",
      "Epoch: 200, loss: 0.48021\n",
      "Epoch: 300, loss: 0.46961\n",
      "Epoch: 400, loss: 0.45856\n",
      "Epoch: 500, loss: 0.44377\n",
      "Epoch: 600, loss: 0.42568\n",
      "Epoch: 700, loss: 0.40899\n",
      "Epoch: 800, loss: 0.39232\n",
      "Epoch: 900, loss: 0.37676\n",
      "Epoch: 1000, loss: 0.36203\n",
      "Epoch: 1100, loss: 0.34731\n",
      "Epoch: 1200, loss: 0.33274\n",
      "Epoch: 1300, loss: 0.31470\n",
      "Epoch: 1400, loss: 0.28244\n",
      "Epoch: 1500, loss: 0.26274\n",
      "Epoch: 1600, loss: 0.25147\n",
      "Epoch: 1700, loss: 0.24205\n",
      "Epoch: 1800, loss: 0.23375\n",
      "Epoch: 1900, loss: 0.22606\n",
      "Epoch: 2000, loss: 0.21838\n",
      "Epoch: 2100, loss: 0.20941\n",
      "Epoch: 2200, loss: 0.18808\n",
      "Epoch: 2300, loss: 0.09304\n",
      "Epoch: 2400, loss: 0.07067\n",
      "Epoch: 2500, loss: 0.06569\n",
      "Epoch: 2600, loss: 0.06162\n",
      "Epoch: 2700, loss: 0.05780\n",
      "Epoch: 2800, loss: 0.05469\n",
      "Epoch: 2900, loss: 0.05212\n",
      "Epoch: 3000, loss: 0.04992\n",
      "Epoch: 3100, loss: 0.04801\n",
      "Epoch: 3200, loss: 0.04635\n",
      "Epoch: 3300, loss: 0.04489\n",
      "Epoch: 3400, loss: 0.04359\n",
      "Epoch: 3500, loss: 0.04245\n",
      "Epoch: 3600, loss: 0.04142\n",
      "Epoch: 3700, loss: 0.04050\n",
      "Epoch: 3800, loss: 0.03966\n",
      "Epoch: 3900, loss: 0.03890\n",
      "Epoch: 4000, loss: 0.03820\n",
      "Epoch: 4100, loss: 0.03754\n",
      "Epoch: 4200, loss: 0.03693\n",
      "Epoch: 4300, loss: 0.03635\n",
      "Epoch: 4400, loss: 0.03581\n",
      "Epoch: 4500, loss: 0.03526\n",
      "Epoch: 4600, loss: 0.03474\n",
      "Epoch: 4700, loss: 0.03427\n",
      "Epoch: 4800, loss: 0.03376\n",
      "Epoch: 4900, loss: 0.03341\n",
      "Epoch: 5000, loss: 0.03288\n",
      "Epoch: 5100, loss: 0.03250\n",
      "Epoch: 5200, loss: 0.03212\n",
      "Epoch: 5300, loss: 0.03178\n",
      "Epoch: 5400, loss: 0.03147\n",
      "Epoch: 5500, loss: 0.03119\n",
      "Epoch: 5600, loss: 0.03093\n",
      "Epoch: 5700, loss: 0.03069\n",
      "Epoch: 5800, loss: 0.03049\n",
      "Epoch: 5900, loss: 0.03026\n"
     ]
    }
   ],
   "source": [
    "lstm = MyLSTM(\n",
    "    input_size=1,\n",
    "    hidden_size=2,\n",
    "    num_layers=1\n",
    ")\n",
    "\n",
    "lstm.fit(X, y, n_epochs=6000, learning_rate=0.001)"
   ]
  },
  {
   "cell_type": "code",
   "execution_count": 216,
   "id": "5f3fcb00-5751-4e7d-80b4-8391dcecf8c7",
   "metadata": {},
   "outputs": [
    {
     "data": {
      "text/plain": [
       "0.14013287"
      ]
     },
     "execution_count": 216,
     "metadata": {},
     "output_type": "execute_result"
    }
   ],
   "source": [
    "# mean absolute error on training set\n",
    "np.abs((lstm.forward(X).detach().numpy() - y.detach().numpy())).mean()"
   ]
  },
  {
   "cell_type": "code",
   "execution_count": 249,
   "id": "1a725fe4-1dca-46b4-aa80-9f3d07d8104e",
   "metadata": {},
   "outputs": [
    {
     "data": {
      "image/png": "[encoded data removed]",
      "text/plain": [
       "<Figure size 1080x360 with 1 Axes>"
      ]
     },
     "metadata": {
      "needs_background": "light"
     },
     "output_type": "display_data"
    }
   ],
   "source": [
    "def plot_prediction(i):\n",
    "    xi = X[i]\n",
    "    preds = lstm.forward(X)\n",
    "    pred = preds[i].item()\n",
    "    xi, yi = xi.detach().numpy().reshape(-1), y[i].item()\n",
    "    true = np.append(xi, yi)\n",
    "    fig, ax = plt.subplots(1, 1, figsize=(15, 5))\n",
    "    ax.plot(true, marker=\"o\", label=\"True\")\n",
    "    ax.scatter([9], pred, color=\"orange\", label=\"Prediction\")\n",
    "    ax.legend()\n",
    "    ax.set_facecolor(\"whitesmoke\")\n",
    "    ax.grid()\n",
    "\n",
    "plot_prediction(90)"
   ]
  }
 ],
 "metadata": {
  "kernelspec": {
   "display_name": "Python 3 (ipykernel)",
   "language": "python",
   "name": "python3"
  },
  "language_info": {
   "codemirror_mode": {
    "name": "ipython",
    "version": 3
   },
   "file_extension": ".py",
   "mimetype": "text/x-python",
   "name": "python",
   "nbconvert_exporter": "python",
   "pygments_lexer": "ipython3",
   "version": "3.9.5"
  }
 },
 "nbformat": 4,
 "nbformat_minor": 5
}
